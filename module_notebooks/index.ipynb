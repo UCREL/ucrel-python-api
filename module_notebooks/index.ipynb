{
 "cells": [
  {
   "cell_type": "markdown",
   "metadata": {},
   "source": [
    "# UCREL Python API\n",
    "\n",
    "> Python API to the [UCREL Tool Chain.](http://ucrel-api.lancaster.ac.uk/)"
   ]
  },
  {
   "cell_type": "markdown",
   "metadata": {},
   "source": [
    "<p align=\"center\">\n",
    "    <a href=\"https://colab.research.google.com/github/UCREL/ucrel-python-api/blob/main/module_notebooks/index.ipynb\" target=\"_blank\">\n",
    "        <img src=\"https://colab.research.google.com/assets/colab-badge.svg\" alt=\"Open In Colab\">\n",
    "    </a>\n",
    "</p>\n",
    "<p align=\"center\">\n",
    "    <a href=\"https://github.com/UCREL/ucrel-python-api/blob/main/LICENSE\"> <img alt=\"License\" src=\"https://img.shields.io/github/license/ucrel/ucrel-python-api?color=orange\"></a>\n",
    "</p>\n",
    "\n",
    "<p align=\"center\">\n",
    "    <a href=\"https://pypi.org/project/ucrel_api/\"> <img alt=\"PyPi\" src=\"https://img.shields.io/pypi/v/ucrel_api\"> </a>\n",
    "    <a href=\"https://pypi.org/project/ucrel_api/\"> <img alt=\"Supported Python Versions\" src=\"https://img.shields.io/pypi/pyversions/ucrel_api\"> </a>\n",
    "</p>"
   ]
  },
  {
   "cell_type": "markdown",
   "metadata": {},
   "source": [
    "## Install\n",
    "\n",
    "`pip install ucrel_api`"
   ]
  },
  {
   "cell_type": "code",
   "execution_count": null,
   "metadata": {},
   "outputs": [],
   "source": [
    "%%capture\n",
    "# If you are running this in Google Colab:\n",
    "! pip install ucrel_api"
   ]
  },
  {
   "cell_type": "markdown",
   "metadata": {},
   "source": [
    "## Examples\n",
    "\n",
    "### Connecting to the API\n",
    "\n",
    "You can connect to the public [UCREL Tool Chain](http://ucrel-api.lancaster.ac.uk/) like so:"
   ]
  },
  {
   "cell_type": "code",
   "execution_count": null,
   "metadata": {},
   "outputs": [],
   "source": [
    "from ucrel_api.api import UCREL_API\n",
    "\n",
    "api = UCREL_API('a.moore@lancaster.ac.uk', 'http://ucrel-api.lancaster.ac.uk')"
   ]
  },
  {
   "cell_type": "markdown",
   "metadata": {},
   "source": [
    "As shown it requires an email address and server address, of which the server address in this case is the address of the public UCREL Tool Chain. The email address is only used to detect misuse of the public UCREL Tool Chain. Please be kind to this public server, UCREL provides it free of charge and is not intended for extremely large numbers of repeated submission from the same site. \n",
    "\n",
    "### USAS\n",
    "\n",
    "Once we have an API insance we can use it to call the [USAS tagger](http://ucrel-api.lancaster.ac.uk/usas/tagger.html):"
   ]
  },
  {
   "cell_type": "code",
   "execution_count": null,
   "metadata": {},
   "outputs": [
    {
     "name": "stdout",
     "output_type": "stream",
     "text": "Sentence 0\nUCREL Token: Hope\tLemma: hope\tPOS tag: VV0\tUSAS tag: X2.6+\nUCREL Token: you\tLemma: you\tPOS tag: PPY\tUSAS tag: Z8mf\nUCREL Token: have\tLemma: have\tPOS tag: VH0\tUSAS tag: A9+\nUCREL Token: a\tLemma: a\tPOS tag: AT1\tUSAS tag: Z5\nUCREL Token: nice\tLemma: nice\tPOS tag: JJ\tUSAS tag: O4.2+\nUCREL Token: day\tLemma: day\tPOS tag: NNT1\tUSAS tag: T1.3\nUCREL Token: .\tLemma: PUNC\tPOS tag: .\n\n\nSentence 1\nUCREL Token: Works\tLemma: works\tPOS tag: NN\tUSAS tag: I4/H1c\nUCREL Token: with\tLemma: with\tPOS tag: IW\tUSAS tag: Z5\nUCREL Token: SGML\tLemma: sgml\tPOS tag: NP1\tUSAS tag: Z99\nUCREL Token: entities\tLemma: entity\tPOS tag: NN2\tUSAS tag: O2\nUCREL Token: e.g.\tLemma: e.g.\tPOS tag: REX\tUSAS tag: A4.1\nUCREL Token: 5\tLemma: 5\tPOS tag: MC\tUSAS tag: N1\nUCREL Token: >\tLemma: >\tPOS tag: FO\tUSAS tag: Z99\nUCREL Token: 4\tLemma: 4\tPOS tag: MC\tUSAS tag: N1\nUCREL Token: .\tLemma: PUNC\tPOS tag: .\n\n\nSentence 2\nUCREL Token: Also\tLemma: also\tPOS tag: RR\tUSAS tag: N5++\nUCREL Token: with\tLemma: with\tPOS tag: IW\tUSAS tag: Z5\nUCREL Token: MWE\tLemma: mwe\tPOS tag: NP1\tUSAS tag: Z99\nUCREL Token: like\tLemma: like\tPOS tag: II\tUSAS tag: Z5\nUCREL Token: New\tLemma: new\tPOS tag: NP1\tUSAS tag: Z2\tMWE tag: 2.2.1\nUCREL Token: York\tLemma: york\tPOS tag: NP1\tUSAS tag: Z2\tMWE tag: 2.2.2\nUCREL Token: .\tLemma: PUNC\tPOS tag: .\n"
    }
   ],
   "source": [
    "text_to_process = ('Hope you have a nice day. '\n",
    "                   'Works with SGML entities e.g. 5 > 4.'\n",
    "                   'Also with MWE like New York.')\n",
    "ucrel_doc = api.usas(text_to_process)\n",
    "for index, sentence in enumerate(ucrel_doc.sentences):\n",
    "    print(f'Sentence {index}')\n",
    "    for token in sentence:\n",
    "        print(token)\n",
    "    if index == 0 or index == 1:\n",
    "        print('\\n')"
   ]
  },
  {
   "cell_type": "markdown",
   "metadata": {},
   "source": [
    "The return of the `UCREL_API.usas` api call is a `UCREL_Doc` instance, the `UCREL_Doc` instance is made up of `UCREL_Token`s. The USAS tagger provides both token level attributes and sentence segmentation as shown above."
   ]
  },
  {
   "cell_type": "markdown",
   "metadata": {},
   "source": [
    "## Development\n",
    "\n",
    "If you would like to develop on this library. Clone the repository and then install the regular requirements and the development requirements using:\n",
    "\n",
    "``` bash\n",
    "pip install -e .[dev]\n",
    "```\n",
    "\n",
    "[The `-e` is an editable flag](http://codumentary.blogspot.com/2014/11/python-tip-of-year-pip-install-editable.html) meaning that if you change anything in the library locally Python will keep track on those changes.\n",
    "\n",
    "### Package is created with nbdev\n",
    "\n",
    "**Note** as it is created with nbdev the code and documentation is generated from the notebooks that are within the [./module_notebooks folder](./module_notebooks).\n",
    "\n",
    "**Note** need to run the following once: `nbdev_install_git_hooks`: [\"This will set up git hooks which will remove metadata from your notebooks when you commit, greatly reducing the chance you have a conflict.\"](https://nbdev.fast.ai/tutorial.html#Install-git-hooks-to-avoid-and-handle-conflicts)\n",
    "\n",
    "The main workflow is the following:\n",
    "\n",
    "1. Edit the notebook(s) you want within [./module_notebooks folder.](./module_notebooks) **The README is generated from the [./module_notebooks/index.ipynb file.](./module_notebooks/index.ipynb)**\n",
    "2. Run `nbdev_build_lib` to convert the notebook(s) into a Python module, which in this case will go into the [./ucrel_api folder](./ucrel_api). **Note** if you created a function in one python module and want to use it in another module then you will need to run `nbdev_build_lib` first, as that python module code needs to be transfered from the [./module_notebooks folder.](./module_notebooks) into the [./ucrel_api folder](./ucrel_api).\n",
    "3. Create the documentation using `nbdev_build_docs`.\n",
    "4. **Optionally** if you created tests run them using `make test`. When you do add tests in the notebooks you will need to import the function from the module and not rely on the function already expressed in the notebook, this is to ensure that code coverage is calculated correctly.\n",
    "5. **Optionally** if you would like to see the documentation locally see the [sub-section below.](#local-documentation)\n",
    "6. Git add the relevant notebook(s), python module code, and documentation.\n",
    "\n",
    "### Local documentation\n",
    "\n",
    "The documentation can be ran locally via a docker container. The easiest way to run this container is through the make command:\n",
    "\n",
    "``` bash\n",
    "make docker_docs_serve\n",
    "```\n",
    "\n",
    "**NOTE** This documentation does not update automatically, so it requires re-running this make command each time you want to see an updated version of the documentation.\n",
    "\n",
    "### PYPI Package release\n",
    "\n",
    "To release an updated version of the package:\n",
    "\n",
    "1. Change the version number in [./settings.ini](./settings.ini)\n",
    "2. Build the library using `nbdev_build_lib`\n",
    "3. Then make the package and upload it to PYPI using `make release`"
   ]
  },
  {
   "cell_type": "markdown",
   "metadata": {},
   "source": [
    "## Acknowledgement\n",
    "\n",
    "The work has been funded by the [UCREL research centre at Lancaster University](http://ucrel.lancs.ac.uk/)."
   ]
  },
  {
   "cell_type": "code",
   "execution_count": null,
   "metadata": {},
   "outputs": [],
   "source": []
  }
 ],
 "metadata": {
  "kernelspec": {
   "display_name": "Python 3.7.10 64-bit ('ucrel-python-api': conda)",
   "name": "python371064bitucrelpythonapiconda9cee0641e46942589ddcb79ee5255c63"
  }
 },
 "nbformat": 4,
 "nbformat_minor": 2
}
