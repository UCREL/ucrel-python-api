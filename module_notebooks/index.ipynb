{
 "cells": [
  {
   "cell_type": "markdown",
   "metadata": {},
   "source": [
    "# UCREL Python API\n",
    "\n",
    "> Python API to the [UCREL Tool Chain.](http://ucrel-api.lancaster.ac.uk/)"
   ]
  },
  {
   "cell_type": "markdown",
   "metadata": {},
   "source": [
    "## Development\n",
    "\n",
    "If you would like to develop on this library. Clone the repository and then install the regular requirements and the development requirements using:\n",
    "\n",
    "``` bash\n",
    "pip install -e .[dev]\n",
    "```\n",
    "\n",
    "[The `-e` is an editable flag](http://codumentary.blogspot.com/2014/11/python-tip-of-year-pip-install-editable.html) meaning that if you change anything in the library locally Python will keep track on those changes.\n",
    "\n",
    "### Package is created with nbdev\n",
    "\n",
    "**Note** as it is created with nbdev the code and documentation is generated from the notebooks that are within the [./module_notebooks folder](./module_notebooks).\n",
    "\n",
    "**Note** need to run the following once: `nbdev_install_git_hooks`: [\"This will set up git hooks which will remove metadata from your notebooks when you commit, greatly reducing the chance you have a conflict.\"](https://nbdev.fast.ai/tutorial.html#Install-git-hooks-to-avoid-and-handle-conflicts)\n",
    "\n",
    "The main workflow is the following:\n",
    "\n",
    "1. Edit the notebook(s) you want within [./module_notebooks folder.](./module_notebooks) **The README is generated from the [./module_notebooks/index.ipynb file.](./module_notebooks/index.ipynb)**\n",
    "2. Run `nbdev_build_lib` to convert the notebook(s) into a Python module, which in this case will go into the [./ucrel_api folder](./ucrel_api). **Note** if you created a function in one python module and want to use it in another module then you will need to run `nbdev_build_lib` first, as that python module code needs to be transfered from the [./module_notebooks folder.](./module_notebooks) into the [./ucrel_api folder](./ucrel_api).\n",
    "3. Create the documentation using `nbdev_build_docs`.\n",
    "4. **Optionally** if you created tests run them using `make test`. When you do add tests in the notebooks you will need to import the function from the module and not rely on the function already expressed in the notebook, this is to ensure that code coverage is calculated correctly.\n",
    "5. **Optionally** if you would like to see the documentation locally see the [sub-section below.](#local-documentation)\n",
    "6. Git add the relevant notebook(s), python module code, and documentation.\n",
    "\n",
    "### Local documentation\n",
    "\n",
    "The documentation can be ran locally via a docker container. The easiest way to run this container is through the make command:\n",
    "\n",
    "``` bash\n",
    "make docker_docs_serve\n",
    "```\n",
    "\n",
    "**NOTE** This documentation does not update automatically, so it requires re-running this make command each time you want to see an updated version of the documentation.\n",
    "\n",
    "### PYPI Package release\n",
    "\n",
    "To release an updated version of the package:\n",
    "\n",
    "1. Change the version number in [./settings.ini](./settings.ini)\n",
    "2. Build the library using `nbdev_build_lib`\n",
    "3. Then make the package and upload it to PYPI using `make release`"
   ]
  },
  {
   "cell_type": "markdown",
   "metadata": {},
   "source": [
    "## Acknowledgement\n",
    "\n",
    "The work has been funded by the [UCREL research centre at Lancaster University](http://ucrel.lancs.ac.uk/)."
   ]
  },
  {
   "cell_type": "code",
   "execution_count": null,
   "metadata": {},
   "outputs": [],
   "source": []
  }
 ],
 "metadata": {},
 "nbformat": 4,
 "nbformat_minor": 2
}
