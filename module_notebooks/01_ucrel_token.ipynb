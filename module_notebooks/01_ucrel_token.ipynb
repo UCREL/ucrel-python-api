{
 "cells": [
  {
   "cell_type": "code",
   "execution_count": null,
   "metadata": {},
   "outputs": [],
   "source": [
    "# default_exp ucrel_token"
   ]
  },
  {
   "cell_type": "code",
   "execution_count": null,
   "metadata": {},
   "outputs": [],
   "source": [
    "#hide\n",
    "from nbdev.showdoc import show_doc"
   ]
  },
  {
   "cell_type": "markdown",
   "metadata": {},
   "source": [
    "# UCREL Token\n",
    "> Classs that holds token level lingustic information and the text of the token."
   ]
  },
  {
   "cell_type": "code",
   "execution_count": null,
   "metadata": {},
   "outputs": [],
   "source": [
    "# export\n",
    "import json\n",
    "from typing import Optional, Any\n",
    "\n",
    "class UCREL_Token():\n",
    "    '''\n",
    "    Classs that holds token level lingustic information and the text\n",
    "    of the token.\n",
    "\n",
    "    This class is inspired by the [Token](https://spacy.io/api/token) \n",
    "    class from the [SpaCy API.](https://spacy.io/api)\n",
    "    '''\n",
    "    def __init__(self, text: str, lemma: Optional[str] = None, \n",
    "                 pos_tag: Optional[str] = None, \n",
    "                 usas_tag: Optional[str] = None,\n",
    "                 mwe_tag: Optional[str] = None) -> None:\n",
    "        '''\n",
    "        1. **text**: Text of the token.\n",
    "        2. **lemma**: Lemma of the token.\n",
    "        2. **pos_tag**: POS tag of the token.\n",
    "        3. **usas_tag**: USAS tag of the token.\n",
    "        4. **mwe_tag**: Multi Word Expression (MWE) tag. This is in the form of\n",
    "        `Unique ID. Length of MWE. Position in MWE` e.g `2.2.1` \n",
    "        would mean that the token is in the second unique \n",
    "        MWE within it's context, the length of the MWE is 2, \n",
    "        and this is the first token in this MWT.\n",
    "        '''\n",
    "        self.text = text\n",
    "        self.lemma = lemma\n",
    "        self.pos_tag = pos_tag\n",
    "        self.usas_tag = usas_tag\n",
    "        self.mwe_tag = mwe_tag\n",
    "\n",
    "    def __repr__(self) -> str:\n",
    "        '''\n",
    "        String representation of the UCREL Token instance, format:\n",
    "        \n",
    "        UCREL Token: {self.text}\\tLemma: {self.lemma}\\tPOS tag: {self.pos_tag}\\t\n",
    "        USAS tag: {self.usas_tag}\\tMWE tag: {self.mwe_tag}\n",
    "\n",
    "        The Lemma, POS, USAS, MWE tags will only appear if they are not `None`.\n",
    "        '''\n",
    "        base_repr = f'UCREL Token: {self.text}'\n",
    "        if self.lemma is not None:\n",
    "            base_repr += f'\\tLemma: {self.lemma}'\n",
    "        if self.pos_tag is not None:\n",
    "            base_repr += f'\\tPOS tag: {self.pos_tag}'\n",
    "        if self.usas_tag is not None:\n",
    "            base_repr += f'\\tUSAS tag: {self.usas_tag}'\n",
    "        if self.mwe_tag is not None:\n",
    "            base_repr += f'\\tMWE tag: {self.mwe_tag}'\n",
    "        return base_repr\n",
    "\n",
    "    def __eq__(self, other: Any) -> bool:\n",
    "        '''\n",
    "        Compare another instance with the current instance of this\n",
    "        class.\n",
    "\n",
    "        1. **other**: Another instance, if this instance is not of this\n",
    "        class type it will raise a `NotImplementedError`.\n",
    "\n",
    "        **returns** `True` if the two instances are the same based on \n",
    "        the token attributes.\n",
    "\n",
    "        **raises NotImplementedError**: If the `other` instance is not of \n",
    "        the same class type as `self`.\n",
    "        '''\n",
    "        # Reference:\n",
    "        # https://stackoverflow.com/questions/1227121/compare-object-instances-for-equality-by-their-attributes\n",
    "        if not isinstance(other, UCREL_Token):\n",
    "            error_msg = (f\"Cannot compare this UCREL Token {self}\\n\"\n",
    "                         \"With anything other than another UCREL Token instance.\"\n",
    "                         \" The instance that is being compared is of type \"\n",
    "                         f\"{type(other)}\")\n",
    "            raise NotImplementedError(error_msg)\n",
    "        other: UCREL_Token\n",
    "\n",
    "        if self.text != other.text:\n",
    "            return False\n",
    "        if self.lemma != other.lemma:\n",
    "            return False\n",
    "        if self.pos_tag != other.pos_tag:\n",
    "            return False\n",
    "        if self.usas_tag != other.usas_tag:\n",
    "            return False\n",
    "        if self.mwe_tag != other.mwe_tag:\n",
    "            return False\n",
    "        return True\n",
    "\n",
    "    def to_json(self) -> str:\n",
    "        '''\n",
    "        **returns** This UCREL_Token as a JSON String.\n",
    "        '''\n",
    "        return json.dumps(self.__dict__)\n",
    "\n",
    "    @staticmethod\n",
    "    def from_json(json_string: str) -> 'UCREL_Token':\n",
    "        '''\n",
    "        A static method that given a `json_string` will \n",
    "        return a `UCREL_Token` representation of that string.\n",
    "        \n",
    "        1. **json_string**: A string that is the return of \n",
    "        `UCREL_Token.to_json` method\n",
    "\n",
    "        **returns** The given `json_string` represented through the \n",
    "        `UCREL_Token`.\n",
    "        '''\n",
    "        \n",
    "        return UCREL_Token(**json.loads(json_string))"
   ]
  },
  {
   "cell_type": "code",
   "execution_count": null,
   "metadata": {},
   "outputs": [],
   "source": [
    "# hide\n",
    "from ucrel_api.api import UCREL_Token"
   ]
  },
  {
   "cell_type": "code",
   "execution_count": null,
   "metadata": {},
   "outputs": [
    {
     "data": {
      "text/markdown": "<h4 id=\"UCREL_Token.__init__\" class=\"doc_header\"><code>UCREL_Token.__init__</code><a href=\"https://github.com/UCREL/ucrel-python-api/tree/main/ucrel_api/ucrel_token.py#L17\" class=\"source_link\" style=\"float:right\">[source]</a></h4>\n\n> <code>UCREL_Token.__init__</code>(**`text`**:`str`, **`lemma`**:`Optional`\\[`str`\\]=*`None`*, **`pos_tag`**:`Optional`\\[`str`\\]=*`None`*, **`usas_tag`**:`Optional`\\[`str`\\]=*`None`*, **`mwe_tag`**:`Optional`\\[`str`\\]=*`None`*)\n\n1. **text**: Text of the token.\n2. **lemma**: Lemma of the token.\n2. **pos_tag**: POS tag of the token.\n3. **usas_tag**: USAS tag of the token.\n4. **mwe_tag**: Multi Word Expression (MWE) tag. This is in the form of\n`Unique ID. Length of MWE. Position in MWE` e.g `2.2.1`\nwould mean that the token is in the second unique\nMWE within it's context, the length of the MWE is 2,\nand this is the first token in this MWT.",
      "text/plain": "<IPython.core.display.Markdown object>"
     },
     "metadata": {},
     "output_type": "display_data"
    }
   ],
   "source": [
    "show_doc(UCREL_Token.__init__)"
   ]
  },
  {
   "cell_type": "code",
   "execution_count": null,
   "metadata": {},
   "outputs": [],
   "source": [
    "great_token = UCREL_Token('Great', 'great', 'JJ', 'A5.1+', '1.1.1')"
   ]
  },
  {
   "cell_type": "code",
   "execution_count": null,
   "metadata": {},
   "outputs": [
    {
     "data": {
      "text/markdown": "<h4 id=\"UCREL_Token.__eq__\" class=\"doc_header\"><code>UCREL_Token.__eq__</code><a href=\"https://github.com/UCREL/ucrel-python-api/tree/main/ucrel_api/ucrel_token.py#L58\" class=\"source_link\" style=\"float:right\">[source]</a></h4>\n\n> <code>UCREL_Token.__eq__</code>(**`other`**:`Any`)\n\nCompare another instance with the current instance of this\nclass.\n\n1. **other**: Another instance, if this instance is not of this\nclass type it will raise a `NotImplementedError`.\n\n**returns** `True` if the two instances are the same based on\nthe token attributes.\n\n**raises NotImplementedError**: If the `other` instance is not of\nthe same class type as `self`.",
      "text/plain": "<IPython.core.display.Markdown object>"
     },
     "metadata": {},
     "output_type": "display_data"
    }
   ],
   "source": [
    "show_doc(UCREL_Token.__eq__)"
   ]
  },
  {
   "cell_type": "code",
   "execution_count": null,
   "metadata": {},
   "outputs": [
    {
     "name": "stdout",
     "output_type": "stream",
     "text": "UCREL_Token instances can only be compared with other UCREL_Token instances:\n"
    }
   ],
   "source": [
    "great_token = UCREL_Token('Great', 'great', 'JJ', 'A5.1+', '1.1.1')\n",
    "assert great_token == UCREL_Token('Great', 'great', 'JJ', 'A5.1+', '1.1.1')\n",
    "\n",
    "great_without_usas = UCREL_Token('Great', 'great', 'JJ', mwe_tag='1.1.1')\n",
    "assert great_token != great_without_usas\n",
    "\n",
    "try:\n",
    "    {'text': 'Great', 'pos_tag': 'JJ'} == great_without_usas\n",
    "except NotImplementedError:\n",
    "    print('UCREL_Token instances can only be compared '\n",
    "          'with other UCREL_Token instances:')"
   ]
  },
  {
   "cell_type": "code",
   "execution_count": null,
   "metadata": {},
   "outputs": [
    {
     "data": {
      "text/markdown": "<h4 id=\"UCREL_Token.__repr__\" class=\"doc_header\"><code>UCREL_Token.__repr__</code><a href=\"https://github.com/UCREL/ucrel-python-api/tree/main/ucrel_api/ucrel_token.py#L38\" class=\"source_link\" style=\"float:right\">[source]</a></h4>\n\n> <code>UCREL_Token.__repr__</code>()\n\nString representation of the UCREL Token instance, format:\n\nUCREL Token: {self.text}        Lemma: {self.lemma}     POS tag: {self.pos_tag} \nUSAS tag: {self.usas_tag}       MWE tag: {self.mwe_tag}\n\nThe Lemma, POS, USAS, MWE tags will only appear if they are not `None`.",
      "text/plain": "<IPython.core.display.Markdown object>"
     },
     "metadata": {},
     "output_type": "display_data"
    }
   ],
   "source": [
    "show_doc(UCREL_Token.__repr__)"
   ]
  },
  {
   "cell_type": "code",
   "execution_count": null,
   "metadata": {},
   "outputs": [
    {
     "name": "stdout",
     "output_type": "stream",
     "text": "UCREL Token: Great\tLemma: great\tPOS tag: JJ\tUSAS tag: A5.1+\tMWE tag: 1.1.1\n"
    }
   ],
   "source": [
    "print(UCREL_Token('Great', 'great', 'JJ', 'A5.1+', '1.1.1'))"
   ]
  },
  {
   "cell_type": "code",
   "execution_count": null,
   "metadata": {},
   "outputs": [
    {
     "data": {
      "text/markdown": "<h4 id=\"UCREL_Token.to_json\" class=\"doc_header\"><code>UCREL_Token.to_json</code><a href=\"https://github.com/UCREL/ucrel-python-api/tree/main/ucrel_api/ucrel_token.py#L94\" class=\"source_link\" style=\"float:right\">[source]</a></h4>\n\n> <code>UCREL_Token.to_json</code>()\n\n**returns** This UCREL_Token as a JSON String.",
      "text/plain": "<IPython.core.display.Markdown object>"
     },
     "metadata": {},
     "output_type": "display_data"
    }
   ],
   "source": [
    "show_doc(UCREL_Token.to_json)"
   ]
  },
  {
   "cell_type": "code",
   "execution_count": null,
   "metadata": {},
   "outputs": [
    {
     "data": {
      "text/plain": "'{\"text\": \"Great\", \"lemma\": \"great\", \"pos_tag\": \"JJ\", \"usas_tag\": \"A5.1+\", \"mwe_tag\": \"1.1.1\"}'"
     },
     "execution_count": null,
     "metadata": {},
     "output_type": "execute_result"
    }
   ],
   "source": [
    "great_token.to_json()"
   ]
  },
  {
   "cell_type": "markdown",
   "metadata": {},
   "source": [
    "### Static Methods"
   ]
  },
  {
   "cell_type": "code",
   "execution_count": null,
   "metadata": {},
   "outputs": [
    {
     "data": {
      "text/markdown": "<h4 id=\"UCREL_Token.from_json\" class=\"doc_header\"><code>UCREL_Token.from_json</code><a href=\"https://github.com/UCREL/ucrel-python-api/tree/main/ucrel_api/ucrel_token.py#L100\" class=\"source_link\" style=\"float:right\">[source]</a></h4>\n\n> <code>UCREL_Token.from_json</code>(**`json_string`**:`str`)\n\nA static method that given a `json_string` will\nreturn a [`UCREL_Token`](/ucrel-python-api/ucrel_token.html#UCREL_Token) representation of that string.\n\n1. **json_string**: A string that is the return of\n[`UCREL_Token.to_json`](/ucrel-python-api/ucrel_token.html#UCREL_Token.to_json) method\n\n**returns** The given `json_string` represented through the\n[`UCREL_Token`](/ucrel-python-api/ucrel_token.html#UCREL_Token).",
      "text/plain": "<IPython.core.display.Markdown object>"
     },
     "metadata": {},
     "output_type": "display_data"
    }
   ],
   "source": [
    "show_doc(UCREL_Token.from_json)"
   ]
  },
  {
   "cell_type": "code",
   "execution_count": null,
   "metadata": {},
   "outputs": [
    {
     "data": {
      "text/plain": "UCREL Token: Great\tLemma: great\tPOS tag: JJ\tUSAS tag: A5.1+\tMWE tag: 1.1.1"
     },
     "execution_count": null,
     "metadata": {},
     "output_type": "execute_result"
    }
   ],
   "source": [
    "great_token_json_string = great_token.to_json()\n",
    "another_great_token = UCREL_Token.from_json(great_token_json_string)\n",
    "another_great_token"
   ]
  },
  {
   "cell_type": "code",
   "execution_count": null,
   "metadata": {},
   "outputs": [
    {
     "data": {
      "text/plain": "True"
     },
     "execution_count": null,
     "metadata": {},
     "output_type": "execute_result"
    }
   ],
   "source": [
    "great_token == another_great_token"
   ]
  },
  {
   "cell_type": "code",
   "execution_count": null,
   "metadata": {},
   "outputs": [],
   "source": [
    "# hide\n",
    "\n",
    "import pytest\n",
    "\n",
    "from ucrel_api.ucrel_token import UCREL_Token\n",
    "\n",
    "MINIMUM_TOKEN = UCREL_Token('hello')\n",
    "MINIMUM_TOKEN_JSON = ('{\"text\": \"hello\", \"lemma\": null, \"pos_tag\": '\n",
    "                      'null, \"usas_tag\": null, \"mwe_tag\": null}')\n",
    "LEMMA_TOKEN = UCREL_Token('hello', 'hello')\n",
    "LEMMA_TOKEN_JSON = ('{\"text\": \"hello\", \"lemma\": \"hello\", \"pos_tag\": '\n",
    "                    'null, \"usas_tag\": null, \"mwe_tag\": null}')\n",
    "POS_TOKEN = UCREL_Token('hello', pos_tag='ITJ')\n",
    "POS_TOKEN_JSON = ('{\"text\": \"hello\", \"lemma\": null, \"pos_tag\": '\n",
    "                  '\"ITJ\", \"usas_tag\": null, \"mwe_tag\": null}')\n",
    "USAS_TOKEN = UCREL_Token('hello', usas_tag='Z4')\n",
    "USAS_TOKEN_JSON = ('{\"text\": \"hello\", \"lemma\": null, \"pos_tag\": '\n",
    "                   'null, \"usas_tag\": \"Z4\", \"mwe_tag\": null}')\n",
    "MWE_TOKEN = UCREL_Token('hello', mwe_tag='1.1.1')\n",
    "MWE_TOKEN_JSON = ('{\"text\": \"hello\", \"lemma\": null, \"pos_tag\": '\n",
    "                  'null, \"usas_tag\": null, \"mwe_tag\": \"1.1.1\"}')\n",
    "\n",
    "def test_ucrel_token_repr() -> None:\n",
    "    \n",
    "    assert str(MINIMUM_TOKEN) == 'UCREL Token: hello'\n",
    "    assert str(POS_TOKEN) == 'UCREL Token: hello\\tPOS tag: ITJ'\n",
    "    assert str(USAS_TOKEN) == 'UCREL Token: hello\\tUSAS tag: Z4'\n",
    "    assert str(LEMMA_TOKEN) == 'UCREL Token: hello\\tLemma: hello'\n",
    "    assert str(MWE_TOKEN) == 'UCREL Token: hello\\tMWE tag: 1.1.1'\n",
    "\n",
    "def test_ucrel_token_eq() -> None:\n",
    "    all_tokens = [MINIMUM_TOKEN, POS_TOKEN, USAS_TOKEN, \n",
    "                  LEMMA_TOKEN, MWE_TOKEN]\n",
    "    for outer_index in range(len(all_tokens)):\n",
    "        for inner_index in range(len(all_tokens)):\n",
    "            if outer_index == inner_index:\n",
    "                assert all_tokens[inner_index] == all_tokens[outer_index]\n",
    "            else:\n",
    "                assert all_tokens[inner_index] != all_tokens[outer_index]\n",
    "    # Test that two tokens with different strings are not equal.\n",
    "    assert UCREL_Token('hello') != UCREL_Token('something')\n",
    "    with pytest.raises(NotImplementedError):\n",
    "        MINIMUM_TOKEN == {'text': 'hello'}\n",
    "\n",
    "def test_to_json() -> None:\n",
    "    assert MINIMUM_TOKEN.to_json() == MINIMUM_TOKEN_JSON\n",
    "    assert LEMMA_TOKEN.to_json() == LEMMA_TOKEN_JSON\n",
    "    assert POS_TOKEN.to_json() == POS_TOKEN_JSON\n",
    "    assert USAS_TOKEN.to_json() == USAS_TOKEN_JSON\n",
    "    assert MWE_TOKEN.to_json() == MWE_TOKEN_JSON\n",
    "\n",
    "def test_from_json() -> None:\n",
    "    assert UCREL_Token.from_json(MINIMUM_TOKEN_JSON) == MINIMUM_TOKEN\n",
    "    assert UCREL_Token.from_json(LEMMA_TOKEN_JSON) == LEMMA_TOKEN\n",
    "    assert UCREL_Token.from_json(POS_TOKEN_JSON) == POS_TOKEN\n",
    "    assert UCREL_Token.from_json(USAS_TOKEN_JSON) == USAS_TOKEN\n",
    "    assert UCREL_Token.from_json(MWE_TOKEN_JSON) == MWE_TOKEN\n",
    "\n",
    "\n",
    "\n",
    "test_ucrel_token_repr()\n",
    "test_ucrel_token_eq()\n",
    "test_to_json()"
   ]
  },
  {
   "cell_type": "code",
   "execution_count": null,
   "metadata": {},
   "outputs": [],
   "source": []
  }
 ],
 "metadata": {
  "kernelspec": {
   "display_name": "Python 3.7.10 64-bit ('ucrel-python-api': conda)",
   "name": "python371064bitucrelpythonapiconda9cee0641e46942589ddcb79ee5255c63"
  }
 },
 "nbformat": 4,
 "nbformat_minor": 2
}
