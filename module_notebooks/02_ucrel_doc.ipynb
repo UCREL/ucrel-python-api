{
 "cells": [
  {
   "cell_type": "code",
   "execution_count": null,
   "metadata": {},
   "outputs": [],
   "source": [
    "# default_exp ucrel_doc"
   ]
  },
  {
   "cell_type": "code",
   "execution_count": null,
   "metadata": {},
   "outputs": [],
   "source": [
    "# hide\n",
    "from nbdev.showdoc import show_doc"
   ]
  },
  {
   "cell_type": "markdown",
   "metadata": {},
   "source": [
    "# UCREL Doc\n",
    "> The UCREL Doc class holds text level lingustic information which is stored as a list of UCREL Token instances."
   ]
  },
  {
   "cell_type": "code",
   "execution_count": null,
   "metadata": {},
   "outputs": [],
   "source": [
    "# export\n",
    "\n",
    "from collections import abc\n",
    "from typing import List, Tuple, Optional, Iterable, Any\n",
    "\n",
    "from ucrel_api.ucrel_token import UCREL_Token\n",
    "\n",
    "class UCREL_Doc(abc.Iterable, abc.Sized):\n",
    "    '''\n",
    "    Classs that holds text level lingustic information which is stored as \n",
    "    a list of `UCREL_Token`s. A text here can be anything from one word \n",
    "    to a whole book or larger. However becareful how much information \n",
    "    you store in this class as it is all stored in memory. \n",
    "\n",
    "    This class is inspired by the [Doc](https://spacy.io/api/doc) \n",
    "    class from the [SpaCy API.](https://spacy.io/api)\n",
    "\n",
    "    **inherits from**: [collections.abc.Iterable](https://docs.python.org/3/library/collections.abc.html#collections.abc.Iterable) \n",
    "    and [collections.abc.Sized](https://docs.python.org/3/library/collections.abc.html#collections.abc.Sized)\n",
    "    '''\n",
    "    def __init__(self, text: str, tokens: List[UCREL_Token], \n",
    "                 sentence_indexes: Optional[List[Tuple[int,int]]] = None\n",
    "                 ) -> None:\n",
    "        '''\n",
    "        1. **text**: The text the Doc is representing.\n",
    "        2. **tokens**: List of `UCREL_Token`s\n",
    "        3. **sentence_indexes**: A List of Tuples. Where each tuple \n",
    "           contains a start and an end token index representing \n",
    "           the start and end of the sentence. These are used to \n",
    "           create the `sentences` property. Can be accessed through \n",
    "           `self._sentence_indexes`. **Optional**\n",
    "        '''\n",
    "        self.text = text\n",
    "        self.tokens = tokens\n",
    "        self._sentence_indexes = sentence_indexes\n",
    "    \n",
    "    def __repr__(self) -> str:\n",
    "        '''\n",
    "        String representation of the UCREL Doc instance:\n",
    "        '''\n",
    "        base_repr = 'UCREL Doc:'\n",
    "        if self._sentence_indexes is not None:\n",
    "            base_repr = f'UCREL Doc ({len(self._sentence_indexes)} sentences):'\n",
    "        first_three_tokens = self.tokens[:3]\n",
    "        first_three_token_strings = '\\n'.join([str(token) for token in first_three_tokens])\n",
    "        base_repr += f'\\nFirst {len(first_three_tokens)} tokens:\\n'\n",
    "        base_repr += first_three_token_strings\n",
    "        return base_repr\n",
    "\n",
    "    def __iter__(self) -> Iterable[UCREL_Token]:\n",
    "        '''\n",
    "        **returns**: Yields each token in `self.tokens`.\n",
    "        '''\n",
    "        for token in self.tokens:\n",
    "            yield token\n",
    "    \n",
    "    def __len__(self) -> int:\n",
    "        '''\n",
    "        **returns**: The number of tokens in the Doc.\n",
    "        '''\n",
    "        return len(self.tokens)\n",
    "\n",
    "    def __getitem__(self, index: int) -> UCREL_Token:\n",
    "        '''\n",
    "        1. **index**: The index of the token to return. \n",
    "        \n",
    "        **returns**: The token at the given index.\n",
    "        '''\n",
    "        return self.tokens[index]\n",
    "\n",
    "    def __eq__(self, other: Any) -> bool:\n",
    "        '''\n",
    "        Compare another instance with the current instance of this\n",
    "        class.\n",
    "\n",
    "        1. **other**: Another instance, if this instance is not of this\n",
    "        class type it will raise a `NotImplementedError`.\n",
    "\n",
    "        **returns** `True` if the two instances are the same based on\n",
    "        the following attributes:\n",
    "        \n",
    "        1. text\n",
    "        2. sentence_indexes\n",
    "        3. tokens\n",
    "\n",
    "        **raises NotImplementedError**: If the `other` instance is not of \n",
    "        the same class type as `self`.\n",
    "        '''\n",
    "        # Reference:\n",
    "        # https://stackoverflow.com/questions/1227121/compare-object-instances-for-equality-by-their-attributes\n",
    "        if not isinstance(other, UCREL_Doc):\n",
    "            error_msg = (f\"Cannot compare this UCREL Doc {self}\\n\"\n",
    "                         \"With anything other than another UCREL Doc instance.\"\n",
    "                         \" The instance that is being compared is of type \"\n",
    "                         f\"{type(other)}\")\n",
    "            raise NotImplementedError(error_msg)\n",
    "        other: UCREL_Doc\n",
    "        if self.text != other.text:\n",
    "            return False\n",
    "        if self._sentence_indexes != other._sentence_indexes:\n",
    "            return False\n",
    "        if len(self) != len(other):\n",
    "            return False\n",
    "        for token_index, token in enumerate(self):\n",
    "            if token != other[token_index]:\n",
    "                return False\n",
    "        return True\n",
    "\n",
    "    @property\n",
    "    def sentences(self) -> Iterable[List[UCREL_Token]]:\n",
    "        '''\n",
    "        **returns**: An iterable of all sentences in the text represented \n",
    "        as a list of `UCREL_Token`s. \n",
    "\n",
    "        **raises ValueError**: If the `sentence_indexes` parameter is not set \n",
    "        at contruction time.\n",
    "        '''\n",
    "        if self._sentence_indexes is None:\n",
    "            error_msg = ('The `sentences` attribute cannot be accessed/created '\n",
    "                         'without `sentence_indexes` at construction time')\n",
    "            raise ValueError(error_msg)\n",
    "        for start_index, end_index in self._sentence_indexes:\n",
    "            yield self.tokens[start_index:end_index]\n"
   ]
  },
  {
   "cell_type": "code",
   "execution_count": null,
   "metadata": {},
   "outputs": [
    {
     "data": {
      "text/markdown": "<h4 id=\"UCREL_Doc.__init__\" class=\"doc_header\"><code>UCREL_Doc.__init__</code><a href=\"__main__.py#L21\" class=\"source_link\" style=\"float:right\">[source]</a></h4>\n\n> <code>UCREL_Doc.__init__</code>(**`text`**:`str`, **`tokens`**:`List`\\[[`UCREL_Token`](/ucrel-python-api/ucrel_token.html#UCREL_Token)\\], **`sentence_indexes`**:`Optional`\\[`List`\\[`Tuple`\\[`int`, `int`\\]\\]\\]=*`None`*)\n\n1. **text**: The text the Doc is representing.\n2. **tokens**: List of [`UCREL_Token`](/ucrel-python-api/ucrel_token.html#UCREL_Token)s\n3. **sentence_indexes**: A List of Tuples. Where each tuple \n   contains a start and an end token index representing \n   the start and end of the sentence. These are used to \n   create the `sentences` property. Can be accessed through \n   `self._sentence_indexes`. **Optional**",
      "text/plain": "<IPython.core.display.Markdown object>"
     },
     "metadata": {},
     "output_type": "display_data"
    }
   ],
   "source": [
    "show_doc(UCREL_Doc.__init__)"
   ]
  },
  {
   "cell_type": "code",
   "execution_count": null,
   "metadata": {},
   "outputs": [],
   "source": [
    "from ucrel_api.ucrel_token import UCREL_Token\n",
    "\n",
    "DOC_TOKENS = [UCREL_Token('hello', pos_tag='UH', usas_tag='Z4'), \n",
    "              UCREL_Token('how', 'RRQ', 'Z5'), \n",
    "              UCREL_Token('are', 'VBR', 'A3+'), UCREL_Token('you', 'PPY', 'Z8mf'),\n",
    "              UCREL_Token('.', '.', None), UCREL_Token('I', 'PPIS1', 'Z8mf'),\n",
    "              UCREL_Token('am', 'VBM', 'A3+'), UCREL_Token('great', 'JJ', 'A5.1+'),\n",
    "              UCREL_Token('thanks', 'NN2', 'S1.2.4+'), UCREL_Token('.', '.', None)]\n",
    "\n",
    "example_doc = UCREL_Doc(text='hello how are you. I am great thanks.',\n",
    "                        tokens=DOC_TOKENS, sentence_indexes=[(0,5), (5,10)])"
   ]
  },
  {
   "cell_type": "code",
   "execution_count": null,
   "metadata": {},
   "outputs": [
    {
     "data": {
      "text/markdown": "<h4 id=\"UCREL_Doc.__repr__\" class=\"doc_header\"><code>UCREL_Doc.__repr__</code><a href=\"__main__.py#L37\" class=\"source_link\" style=\"float:right\">[source]</a></h4>\n\n> <code>UCREL_Doc.__repr__</code>()\n\nString representation of the UCREL Doc instance:",
      "text/plain": "<IPython.core.display.Markdown object>"
     },
     "metadata": {},
     "output_type": "display_data"
    }
   ],
   "source": [
    "show_doc(UCREL_Doc.__repr__)"
   ]
  },
  {
   "cell_type": "code",
   "execution_count": null,
   "metadata": {},
   "outputs": [
    {
     "data": {
      "text/plain": "UCREL Doc (2 sentences):\nFirst 3 tokens:\nUCREL Token: hello\tPOS tag: UH\tUSAS tag: Z4\nUCREL Token: how\tLemma: RRQ\tPOS tag: Z5\nUCREL Token: are\tLemma: VBR\tPOS tag: A3+"
     },
     "execution_count": null,
     "metadata": {},
     "output_type": "execute_result"
    }
   ],
   "source": [
    "example_doc"
   ]
  },
  {
   "cell_type": "code",
   "execution_count": null,
   "metadata": {},
   "outputs": [
    {
     "data": {
      "text/markdown": "<h4 id=\"UCREL_Doc.sentences\" class=\"doc_header\"><code>UCREL_Doc.sentences</code><a href=\"\" class=\"source_link\" style=\"float:right\">[source]</a></h4>\n\n**returns**: An iterable of all sentences in the text represented \nas a list of [`UCREL_Token`](/ucrel-python-api/ucrel_token.html#UCREL_Token)s. \n\n**raises ValueError**: If the `sentence_indexes` parameter is not set \nat contruction time.",
      "text/plain": "<IPython.core.display.Markdown object>"
     },
     "metadata": {},
     "output_type": "display_data"
    }
   ],
   "source": [
    "show_doc(UCREL_Doc.sentences)"
   ]
  },
  {
   "cell_type": "code",
   "execution_count": null,
   "metadata": {},
   "outputs": [
    {
     "name": "stdout",
     "output_type": "stream",
     "text": "Sentence 0:\nUCREL Token: hello\tPOS tag: UH\tUSAS tag: Z4\nUCREL Token: how\tLemma: RRQ\tPOS tag: Z5\nUCREL Token: are\tLemma: VBR\tPOS tag: A3+\nUCREL Token: you\tLemma: PPY\tPOS tag: Z8mf\nUCREL Token: .\tLemma: .\n\n\nSentence 1:\nUCREL Token: I\tLemma: PPIS1\tPOS tag: Z8mf\nUCREL Token: am\tLemma: VBM\tPOS tag: A3+\nUCREL Token: great\tLemma: JJ\tPOS tag: A5.1+\nUCREL Token: thanks\tLemma: NN2\tPOS tag: S1.2.4+\nUCREL Token: .\tLemma: .\n"
    }
   ],
   "source": [
    "for index, sentence in enumerate(example_doc.sentences):\n",
    "    print(f'Sentence {index}:')\n",
    "    for token in sentence:\n",
    "        print(f'{token}')\n",
    "    if index == 0:\n",
    "        print('\\n')"
   ]
  },
  {
   "cell_type": "code",
   "execution_count": null,
   "metadata": {},
   "outputs": [
    {
     "data": {
      "text/markdown": "<h4 id=\"UCREL_Doc.__iter__\" class=\"doc_header\"><code>UCREL_Doc.__iter__</code><a href=\"__main__.py#L50\" class=\"source_link\" style=\"float:right\">[source]</a></h4>\n\n> <code>UCREL_Doc.__iter__</code>()\n\n**returns**: Yields each token in `self.tokens`.",
      "text/plain": "<IPython.core.display.Markdown object>"
     },
     "metadata": {},
     "output_type": "display_data"
    }
   ],
   "source": [
    "show_doc(UCREL_Doc.__iter__)"
   ]
  },
  {
   "cell_type": "code",
   "execution_count": null,
   "metadata": {},
   "outputs": [
    {
     "name": "stdout",
     "output_type": "stream",
     "text": "0 UCREL Token: hello\tPOS tag: UH\tUSAS tag: Z4\n1 UCREL Token: how\tLemma: RRQ\tPOS tag: Z5\n2 UCREL Token: are\tLemma: VBR\tPOS tag: A3+\n3 UCREL Token: you\tLemma: PPY\tPOS tag: Z8mf\n4 UCREL Token: .\tLemma: .\n5 UCREL Token: I\tLemma: PPIS1\tPOS tag: Z8mf\n6 UCREL Token: am\tLemma: VBM\tPOS tag: A3+\n7 UCREL Token: great\tLemma: JJ\tPOS tag: A5.1+\n8 UCREL Token: thanks\tLemma: NN2\tPOS tag: S1.2.4+\n9 UCREL Token: .\tLemma: .\n"
    }
   ],
   "source": [
    "for index, token in enumerate(example_doc):\n",
    "    print(f'{index} {token}')"
   ]
  },
  {
   "cell_type": "code",
   "execution_count": null,
   "metadata": {},
   "outputs": [
    {
     "data": {
      "text/markdown": "<h4 id=\"UCREL_Doc.__getitem__\" class=\"doc_header\"><code>UCREL_Doc.__getitem__</code><a href=\"__main__.py#L63\" class=\"source_link\" style=\"float:right\">[source]</a></h4>\n\n> <code>UCREL_Doc.__getitem__</code>(**`index`**:`int`)\n\n1. **index**: The index of the token to return. \n\n**returns**: The token at the given index.",
      "text/plain": "<IPython.core.display.Markdown object>"
     },
     "metadata": {},
     "output_type": "display_data"
    }
   ],
   "source": [
    "show_doc(UCREL_Doc.__getitem__)"
   ]
  },
  {
   "cell_type": "code",
   "execution_count": null,
   "metadata": {},
   "outputs": [
    {
     "data": {
      "text/plain": "UCREL Token: thanks\tLemma: NN2\tPOS tag: S1.2.4+"
     },
     "execution_count": null,
     "metadata": {},
     "output_type": "execute_result"
    }
   ],
   "source": [
    "example_doc[-2]"
   ]
  },
  {
   "cell_type": "code",
   "execution_count": null,
   "metadata": {},
   "outputs": [
    {
     "data": {
      "text/markdown": "<h4 id=\"UCREL_Doc.__len__\" class=\"doc_header\"><code>UCREL_Doc.__len__</code><a href=\"__main__.py#L57\" class=\"source_link\" style=\"float:right\">[source]</a></h4>\n\n> <code>UCREL_Doc.__len__</code>()\n\n**returns**: The number of tokens in the Doc.",
      "text/plain": "<IPython.core.display.Markdown object>"
     },
     "metadata": {},
     "output_type": "display_data"
    }
   ],
   "source": [
    "show_doc(UCREL_Doc.__len__)"
   ]
  },
  {
   "cell_type": "code",
   "execution_count": null,
   "metadata": {},
   "outputs": [
    {
     "data": {
      "text/plain": "10"
     },
     "execution_count": null,
     "metadata": {},
     "output_type": "execute_result"
    }
   ],
   "source": [
    "len(example_doc)"
   ]
  },
  {
   "cell_type": "code",
   "execution_count": null,
   "metadata": {},
   "outputs": [
    {
     "data": {
      "text/markdown": "<h4 id=\"UCREL_Doc.__eq__\" class=\"doc_header\"><code>UCREL_Doc.__eq__</code><a href=\"__main__.py#L71\" class=\"source_link\" style=\"float:right\">[source]</a></h4>\n\n> <code>UCREL_Doc.__eq__</code>(**`other`**:`Any`)\n\nCompare another instance with the current instance of this\nclass.\n\n1. **other**: Another instance, if this instance is not of this\nclass type it will raise a `NotImplementedError`.\n\n**returns** `True` if the two instances are the same based on\nthe following attributes:\n\n1. text\n2. sentence_indexes\n3. tokens\n\n**raises NotImplementedError**: If the `other` instance is not of \nthe same class type as `self`.",
      "text/plain": "<IPython.core.display.Markdown object>"
     },
     "metadata": {},
     "output_type": "display_data"
    }
   ],
   "source": [
    "show_doc(UCREL_Doc.__eq__)"
   ]
  },
  {
   "cell_type": "code",
   "execution_count": null,
   "metadata": {},
   "outputs": [
    {
     "name": "stdout",
     "output_type": "stream",
     "text": "UCREL_Doc instances can only be compared with other UCREL_Doc instances:\n"
    }
   ],
   "source": [
    "assert example_doc == UCREL_Doc(text='hello how are you. I am great thanks.',\n",
    "                                tokens=DOC_TOKENS, \n",
    "                                sentence_indexes=[(0,5), (5,10)])\n",
    "\n",
    "example_without_sent_indexes = UCREL_Doc(text='hello how are you. I am great thanks.',\n",
    "                                         tokens=DOC_TOKENS)\n",
    "assert example_doc != example_without_sent_indexes\n",
    "\n",
    "try:\n",
    "    {'text': 'hello how are you. I am great thanks.', \n",
    "     'tokens': DOC_TOKENS, 'sentence_indexes': [(0,5), (5,10)]} == example_doc\n",
    "except NotImplementedError:\n",
    "    print('UCREL_Doc instances can only be compared '\n",
    "          'with other UCREL_Doc instances:')\n"
   ]
  },
  {
   "cell_type": "code",
   "execution_count": null,
   "metadata": {},
   "outputs": [],
   "source": [
    "# hide\n",
    "import copy\n",
    "import pytest\n",
    "\n",
    "from ucrel_api.ucrel_doc import UCREL_Doc, UCREL_Token\n",
    "\n",
    "DOC_TOKENS = [UCREL_Token('hello', 'UH', 'Z4'), UCREL_Token('how', 'RRQ', 'Z5'), \n",
    "              UCREL_Token('are', 'VBR', 'A3+'), UCREL_Token('you', 'PPY', 'Z8mf')]\n",
    "\n",
    "def test_ucrel_doc_repr() -> None:    \n",
    "    minimum_doc = UCREL_Doc('hello how are you', tokens=DOC_TOKENS)\n",
    "    true_repr = 'UCREL Doc:\\nFirst 3 tokens:\\n' + '\\n'.join([str(token) for token in DOC_TOKENS[:3]])\n",
    "    assert str(minimum_doc) == true_repr\n",
    "\n",
    "    sentence_doc = UCREL_Doc('hello how are you', tokens=DOC_TOKENS, sentence_indexes=[(0,1), (1,4)])\n",
    "    true_repr = 'UCREL Doc (2 sentences):\\nFirst 3 tokens:\\n' + '\\n'.join([str(token) for token in DOC_TOKENS[:3]])\n",
    "    assert str(sentence_doc) == true_repr\n",
    "\n",
    "    # Test when the UCREL Doc has less than 3 tokens\n",
    "    minimum_doc = UCREL_Doc('hello how', tokens=DOC_TOKENS[:2])\n",
    "    true_repr = 'UCREL Doc:\\nFirst 2 tokens:\\n' + '\\n'.join([str(token) for token in DOC_TOKENS[:2]])\n",
    "    assert str(minimum_doc) == true_repr\n",
    "\n",
    "def test_ucrel_doc_iter() -> None:\n",
    "    minimum_doc = UCREL_Doc('hello how are you', tokens=DOC_TOKENS)\n",
    "    for index, token in enumerate(minimum_doc):\n",
    "        assert DOC_TOKENS[index] == token\n",
    "\n",
    "def test_ucrel_doc_len() -> None:\n",
    "    empty = UCREL_Doc('',[])\n",
    "    assert len(empty) == 0\n",
    "\n",
    "    minimum_doc = UCREL_Doc('hello how are you', tokens=DOC_TOKENS)\n",
    "    assert len(minimum_doc) == 4\n",
    "\n",
    "def test_ucrel_doc_getitem() -> None:\n",
    "    minimum_doc = UCREL_Doc('hello how are you', tokens=DOC_TOKENS)\n",
    "    assert minimum_doc[0] == DOC_TOKENS[0]\n",
    "    \n",
    "    assert minimum_doc[:2] == [DOC_TOKENS[0], DOC_TOKENS[1]]\n",
    "\n",
    "    with pytest.raises(IndexError):\n",
    "        minimum_doc[4]\n",
    "    \n",
    "    with pytest.raises(TypeError):\n",
    "        minimum_doc['0']\n",
    "\n",
    "def test_ucrel_doc_eq() -> None:\n",
    "    # Pass when just text and tokens\n",
    "    minimum_doc = UCREL_Doc('hello how are you', tokens=DOC_TOKENS)\n",
    "    same_doc = UCREL_Doc('hello how are you', tokens=DOC_TOKENS)\n",
    "    assert minimum_doc == same_doc\n",
    "\n",
    "    # Difference based on both text and tokens\n",
    "    diff_doc = UCREL_Doc('hello how are', tokens=DOC_TOKENS[:-1])\n",
    "    assert minimum_doc != diff_doc\n",
    "\n",
    "    # Difference based on tokens and not text\n",
    "    diff_tokens = copy.deepcopy(DOC_TOKENS)\n",
    "    diff_tokens[-1].pos_tag = 'DIFF'\n",
    "    diff_doc = UCREL_Doc('hello how are you', tokens=diff_tokens)\n",
    "    assert minimum_doc != diff_doc\n",
    "\n",
    "    # Difference based on token length\n",
    "    diff_doc = UCREL_Doc('hello how are you', tokens=DOC_TOKENS[:3])\n",
    "    assert minimum_doc != diff_doc\n",
    "\n",
    "    # Pass with text, tokens, and sentence indexes\n",
    "    minimum_doc = UCREL_Doc('hello how are you', tokens=DOC_TOKENS, \n",
    "                            sentence_indexes=[(0,1), (1,4)])\n",
    "    same_doc = UCREL_Doc('hello how are you', tokens=DOC_TOKENS, \n",
    "                         sentence_indexes=[(0,1), (1,4)])\n",
    "    assert minimum_doc == same_doc\n",
    "\n",
    "    # Difference based on sentence indexes\n",
    "    diff_doc = UCREL_Doc('hello how are you', tokens=DOC_TOKENS, \n",
    "                         sentence_indexes=[(0,2), (2,4)])\n",
    "    assert minimum_doc != diff_doc\n",
    "    \n",
    "    with pytest.raises(NotImplementedError):\n",
    "        minimum_doc == {'text': 'hello'}\n",
    "\n",
    "def test_ucrel_doc_sentences() -> None:\n",
    "    minimum_doc = UCREL_Doc('hello how are you', tokens=DOC_TOKENS, sentence_indexes=[(0,1), (1,4)])\n",
    "    sentence_1 = [DOC_TOKENS[0]]\n",
    "    sentence_2 = [DOC_TOKENS[1], DOC_TOKENS[2], DOC_TOKENS[3]]\n",
    "    true_sentences = [sentence_1, sentence_2]\n",
    "    count = 0\n",
    "    for index, sentence in enumerate(minimum_doc.sentences):\n",
    "        count += 1\n",
    "        assert sentence == true_sentences[index]\n",
    "    assert count == 2\n",
    "    # Ensure it can run more than once for the same instance\n",
    "    count = 0\n",
    "    for index, sentence in enumerate(minimum_doc.sentences):\n",
    "        count += 1\n",
    "        assert sentence == true_sentences[index]\n",
    "    assert count == 2\n",
    "    \n",
    "    with pytest.raises(ValueError):\n",
    "        minimum_doc = UCREL_Doc('hello how are you', tokens=DOC_TOKENS)\n",
    "        for value in minimum_doc.sentences:\n",
    "            pass\n",
    "    \n",
    "\n",
    "\n",
    "test_ucrel_doc_repr()\n",
    "test_ucrel_doc_iter()\n",
    "test_ucrel_doc_len()\n",
    "test_ucrel_doc_getitem()\n",
    "test_ucrel_doc_sentences()\n",
    "test_ucrel_doc_eq()"
   ]
  }
 ],
 "metadata": {
  "kernelspec": {
   "display_name": "Python 3.7.10 64-bit ('ucrel-python-api': conda)",
   "name": "python371064bitucrelpythonapiconda9cee0641e46942589ddcb79ee5255c63"
  }
 },
 "nbformat": 4,
 "nbformat_minor": 2
}
